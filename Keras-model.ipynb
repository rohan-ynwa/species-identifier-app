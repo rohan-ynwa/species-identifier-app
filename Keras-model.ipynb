{
  "nbformat": 4,
  "nbformat_minor": 0,
  "metadata": {
    "accelerator": "GPU",
    "colab": {
      "name": "Untitled1.ipynb",
      "provenance": [],
      "authorship_tag": "ABX9TyNZ++JznvYLaJbG5jPkhL94",
      "include_colab_link": true
    },
    "kernelspec": {
      "display_name": "Python 3",
      "name": "python3"
    }
  },
  "cells": [
    {
      "cell_type": "markdown",
      "metadata": {
        "id": "view-in-github",
        "colab_type": "text"
      },
      "source": [
        "<a href=\"https://colab.research.google.com/github/rohan-ynwa/species-identifier-app/blob/main/Keras-model.ipynb\" target=\"_parent\"><img src=\"https://colab.research.google.com/assets/colab-badge.svg\" alt=\"Open In Colab\"/></a>"
      ]
    },
    {
      "cell_type": "code",
      "metadata": {
        "id": "LnS_tiYxWjJ1"
      },
      "source": [
        "import tensorflow as tf\r\n",
        "import matplotlib.pylab as plt\r\n",
        "\r\n",
        "\r\n",
        "import tensorflow_hub as hub\r\n",
        "import tensorflow_datasets as tfds\r\n",
        "\r\n",
        "from tensorflow.keras import layers\r\n",
        "\r\n",
        "keras = tf.keras\r\n"
      ],
      "execution_count": 1,
      "outputs": []
    },
    {
      "cell_type": "code",
      "metadata": {
        "id": "kMi6y2eHXFJM"
      },
      "source": [
        "import logging\r\n",
        "logger = tf.get_logger()\r\n",
        "logger.setLevel(logging.ERROR)"
      ],
      "execution_count": 2,
      "outputs": []
    },
    {
      "cell_type": "code",
      "metadata": {
        "id": "_Zw18mtqXIIy"
      },
      "source": [
        "(training_set, validation_set), info = tfds.load(\r\n",
        "    'stanford_dogs', \r\n",
        "    with_info=True, \r\n",
        "    as_supervised=True, \r\n",
        "    split=['train[:70%]', 'train[70%:]']\r\n",
        ")\r\n",
        "\r\n",
        "num_examples = info.splits['train'].num_examples\r\n",
        "num_classes = info.features['label'].num_classes"
      ],
      "execution_count": 3,
      "outputs": []
    },
    {
      "cell_type": "code",
      "metadata": {
        "id": "kYoXlYkBcH-3"
      },
      "source": [
        "IMAGE_RES = 224\r\n",
        "\r\n",
        "def format_image(image, label):\r\n",
        "  image = tf.image.resize(image, (IMAGE_RES, IMAGE_RES))/255.0\r\n",
        "  return image, label\r\n",
        "\r\n",
        "BATCH_SIZE = 32\r\n",
        "\r\n",
        "train_batches      = training_set.shuffle(num_examples//4).map(format_image).batch(BATCH_SIZE).prefetch(1)\r\n",
        "\r\n",
        "validation_batches = validation_set.map(format_image).batch(BATCH_SIZE).prefetch(1)"
      ],
      "execution_count": 4,
      "outputs": []
    },
    {
      "cell_type": "code",
      "metadata": {
        "id": "SZD3xBwEc4Tu"
      },
      "source": [
        "URL = \"https://tfhub.dev/google/tf2-preview/mobilenet_v2/feature_vector/4\"\r\n",
        "feature_extractor = hub.KerasLayer(URL,\r\n",
        "                                   input_shape=(IMAGE_RES, IMAGE_RES, 3))\r\n",
        "feature_extractor.trainable = False"
      ],
      "execution_count": 11,
      "outputs": []
    },
    {
      "cell_type": "code",
      "metadata": {
        "colab": {
          "base_uri": "https://localhost:8080/",
          "height": 232
        },
        "id": "u27UE-m3dAdw",
        "outputId": "cc3a0d57-d7a5-4461-f7c6-ba4485e7d971"
      },
      "source": [
        "early_stopping = keras.callbacks.EarlyStopping(patience=3)\r\n",
        "model = tf.keras.Sequential([\r\n",
        "  feature_extractor,\r\n",
        "  layeras.Dense(240, actication = 'relu'),\r\n",
        "  layeras.Dense(240, actication = 'relu'),\r\n",
        "  layers.Dense(num_classes)\r\n",
        "])\r\n",
        "\r\n",
        "model.summary()"
      ],
      "execution_count": 1,
      "outputs": [
        {
          "output_type": "error",
          "ename": "NameError",
          "evalue": "ignored",
          "traceback": [
            "\u001b[0;31m---------------------------------------------------------------------------\u001b[0m",
            "\u001b[0;31mNameError\u001b[0m                                 Traceback (most recent call last)",
            "\u001b[0;32m<ipython-input-1-21d7dcaf06c0>\u001b[0m in \u001b[0;36m<module>\u001b[0;34m()\u001b[0m\n\u001b[0;32m----> 1\u001b[0;31m \u001b[0mearly_stopping\u001b[0m \u001b[0;34m=\u001b[0m \u001b[0mkeras\u001b[0m\u001b[0;34m.\u001b[0m\u001b[0mcallbacks\u001b[0m\u001b[0;34m.\u001b[0m\u001b[0mEarlyStopping\u001b[0m\u001b[0;34m(\u001b[0m\u001b[0mpatience\u001b[0m\u001b[0;34m=\u001b[0m\u001b[0;36m3\u001b[0m\u001b[0;34m)\u001b[0m\u001b[0;34m\u001b[0m\u001b[0;34m\u001b[0m\u001b[0m\n\u001b[0m\u001b[1;32m      2\u001b[0m model = tf.keras.Sequential([\n\u001b[1;32m      3\u001b[0m   \u001b[0mfeature_extractor\u001b[0m\u001b[0;34m,\u001b[0m\u001b[0;34m\u001b[0m\u001b[0;34m\u001b[0m\u001b[0m\n\u001b[1;32m      4\u001b[0m   \u001b[0mlayeras\u001b[0m\u001b[0;34m.\u001b[0m\u001b[0mDense\u001b[0m\u001b[0;34m(\u001b[0m\u001b[0;36m240\u001b[0m\u001b[0;34m,\u001b[0m \u001b[0mactication\u001b[0m \u001b[0;34m=\u001b[0m \u001b[0;34m'relu'\u001b[0m\u001b[0;34m)\u001b[0m\u001b[0;34m,\u001b[0m\u001b[0;34m\u001b[0m\u001b[0;34m\u001b[0m\u001b[0m\n\u001b[1;32m      5\u001b[0m   \u001b[0mlayeras\u001b[0m\u001b[0;34m.\u001b[0m\u001b[0mDense\u001b[0m\u001b[0;34m(\u001b[0m\u001b[0;36m240\u001b[0m\u001b[0;34m,\u001b[0m \u001b[0mactication\u001b[0m \u001b[0;34m=\u001b[0m \u001b[0;34m'relu'\u001b[0m\u001b[0;34m)\u001b[0m\u001b[0;34m,\u001b[0m\u001b[0;34m\u001b[0m\u001b[0;34m\u001b[0m\u001b[0m\n",
            "\u001b[0;31mNameError\u001b[0m: name 'keras' is not defined"
          ]
        }
      ]
    },
    {
      "cell_type": "code",
      "metadata": {
        "colab": {
          "base_uri": "https://localhost:8080/"
        },
        "id": "hTS6TSkldMLe",
        "outputId": "a458c4a0-adbd-4ce4-9dcc-056d933c1acc"
      },
      "source": [
        "model.compile(\r\n",
        "  optimizer='adam',\r\n",
        "  loss=tf.keras.losses.SparseCategoricalCrossentropy(from_logits=True),\r\n",
        "  metrics=['accuracy'])\r\n",
        "\r\n",
        "history = model.fit(train_batches,\r\n",
        "                    epochs=100,\r\n",
        "                    validation_data=validation_batches)"
      ],
      "execution_count": null,
      "outputs": [
        {
          "output_type": "stream",
          "text": [
            "Epoch 1/100\n",
            "263/263 [==============================] - 73s 253ms/step - loss: 1.8009 - accuracy: 0.6422 - val_loss: 0.6030 - val_accuracy: 0.8344\n",
            "Epoch 2/100\n",
            "263/263 [==============================] - 67s 245ms/step - loss: 0.4741 - accuracy: 0.8553 - val_loss: 0.6319 - val_accuracy: 0.8292\n",
            "Epoch 3/100\n",
            "263/263 [==============================] - 67s 245ms/step - loss: 0.3874 - accuracy: 0.8700 - val_loss: 0.6638 - val_accuracy: 0.8367\n",
            "Epoch 4/100\n",
            "263/263 [==============================] - 67s 245ms/step - loss: 0.3215 - accuracy: 0.8901 - val_loss: 0.6245 - val_accuracy: 0.8411\n",
            "Epoch 5/100\n",
            "263/263 [==============================] - 67s 245ms/step - loss: 0.2839 - accuracy: 0.9021 - val_loss: 0.6285 - val_accuracy: 0.8442\n",
            "Epoch 6/100\n",
            "263/263 [==============================] - 67s 245ms/step - loss: 0.2503 - accuracy: 0.9141 - val_loss: 0.6571 - val_accuracy: 0.8317\n",
            "Epoch 7/100\n",
            "263/263 [==============================] - 67s 246ms/step - loss: 0.2331 - accuracy: 0.9169 - val_loss: 0.6549 - val_accuracy: 0.8369\n",
            "Epoch 8/100\n",
            "263/263 [==============================] - 67s 246ms/step - loss: 0.1962 - accuracy: 0.9283 - val_loss: 0.6502 - val_accuracy: 0.8406\n",
            "Epoch 9/100\n",
            "263/263 [==============================] - 67s 246ms/step - loss: 0.1998 - accuracy: 0.9277 - val_loss: 0.6798 - val_accuracy: 0.8375\n",
            "Epoch 10/100\n",
            "263/263 [==============================] - 67s 245ms/step - loss: 0.1631 - accuracy: 0.9410 - val_loss: 0.7544 - val_accuracy: 0.8228\n",
            "Epoch 11/100\n",
            "263/263 [==============================] - 67s 245ms/step - loss: 0.1628 - accuracy: 0.9418 - val_loss: 0.7278 - val_accuracy: 0.8344\n",
            "Epoch 12/100\n",
            "263/263 [==============================] - 67s 245ms/step - loss: 0.1571 - accuracy: 0.9422 - val_loss: 0.6827 - val_accuracy: 0.8489\n",
            "Epoch 13/100\n",
            "263/263 [==============================] - 67s 245ms/step - loss: 0.1141 - accuracy: 0.9573 - val_loss: 0.7103 - val_accuracy: 0.8456\n",
            "Epoch 14/100\n",
            "263/263 [==============================] - 66s 244ms/step - loss: 0.1285 - accuracy: 0.9504 - val_loss: 0.7457 - val_accuracy: 0.8358\n",
            "Epoch 15/100\n",
            "263/263 [==============================] - 67s 245ms/step - loss: 0.1223 - accuracy: 0.9554 - val_loss: 0.7444 - val_accuracy: 0.8428\n",
            "Epoch 16/100\n",
            "263/263 [==============================] - 66s 244ms/step - loss: 0.1266 - accuracy: 0.9546 - val_loss: 0.7706 - val_accuracy: 0.8383\n",
            "Epoch 17/100\n",
            "263/263 [==============================] - 66s 244ms/step - loss: 0.1058 - accuracy: 0.9632 - val_loss: 0.7776 - val_accuracy: 0.8392\n",
            "Epoch 18/100\n",
            "263/263 [==============================] - 66s 244ms/step - loss: 0.1007 - accuracy: 0.9639 - val_loss: 0.8192 - val_accuracy: 0.8364\n",
            "Epoch 19/100\n",
            "263/263 [==============================] - 66s 244ms/step - loss: 0.0860 - accuracy: 0.9701 - val_loss: 0.7985 - val_accuracy: 0.8400\n"
          ],
          "name": "stdout"
        }
      ]
    }
  ]
}